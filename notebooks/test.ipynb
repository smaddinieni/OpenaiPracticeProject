{
 "cells": [
  {
   "cell_type": "code",
   "execution_count": 1,
   "id": "f7bc7f10",
   "metadata": {},
   "outputs": [],
   "source": [
    "import sys\n",
    "sys.path.append(\n",
    "    \"c:\\\\Users\\\\smaddinieni2\\\\OneDrive - DXC Production\\\\Desktop\\\\Projects\\\\Gen AI\\\\OpenaiPracticeProject\"\n",
    ")"
   ]
  },
  {
   "cell_type": "code",
   "execution_count": 5,
   "id": "d307bc3e",
   "metadata": {},
   "outputs": [],
   "source": [
    "from python_code.quickstart import generate_response\n",
    "from python_code.AnalyzeImageinputsUrl import analyze_image\n",
    "from python_code.websearch import websearch_response"
   ]
  },
  {
   "cell_type": "code",
   "execution_count": 6,
   "id": "912fea6a",
   "metadata": {},
   "outputs": [
    {
     "name": "stdout",
     "output_type": "stream",
     "text": [
      "Sure! Here's a joke about AI for you:\n",
      "\n",
      "Why did the AI go to art school?\n",
      "\n",
      "Because it wanted to learn how to draw better conclusions!\n"
     ]
    }
   ],
   "source": [
    "# Example usage of generate_response\n",
    "input_text = \"Tell me a joke about AI.\"\n",
    "response = generate_response(input_text)\n",
    "print(response)"
   ]
  },
  {
   "cell_type": "code",
   "execution_count": 7,
   "id": "85374545",
   "metadata": {},
   "outputs": [
    {
     "name": "stdout",
     "output_type": "stream",
     "text": [
      "This image captures a moment from a professional basketball game between the Cleveland Cavaliers and the Brooklyn Nets. The player in the maroon and gold uniform, likely from the Cleveland Cavaliers, wearing jersey number 23, is going up towards the basket, preparing to make a shot. The players in white jerseys with \"Brooklyn\" written on them are from the Brooklyn Nets and appear to be attempting to defend the shot. The scene is intense, with all players focused on the ball near the hoop. The crowd and officials are visible in the background. This image showcases athleticism and competition typical of an NBA game.\n"
     ]
    }
   ],
   "source": [
    "# Example usage of Image_response\n",
    "image_url = \"https://upload.wikimedia.org/wikipedia/commons/3/3b/LeBron_James_Layup_%28Cleveland_vs_Brooklyn_2018%29.jpg\"\n",
    "result = analyze_image(image_url)\n",
    "print(result)"
   ]
  },
  {
   "cell_type": "code",
   "execution_count": 8,
   "id": "7ab1b3ad",
   "metadata": {},
   "outputs": [
    {
     "name": "stdout",
     "output_type": "stream",
     "text": [
      "As of April 21, 2025, here are some positive news stories:\n",
      "\n",
      "**1. Global Work-Life Balance Shift**\n",
      "\n",
      "A recent international study revealed that work-life balance has surpassed salary as the primary motivator for employees worldwide. Conducted by Randstad, the survey of 26,000 workers across 35 countries found that 83% prioritize work-life balance over pay (82%). This trend aligns with the growing adoption of four-day workweeks and flexible working arrangements. ([positive.news](https://www.positive.news/society/good-news-stories-from-week-04-of-2025/?utm_source=openai))\n",
      "\n",
      "**2. Democratic Republic of Congo's Environmental Initiative**\n",
      "\n",
      "The Democratic Republic of Congo has announced plans to establish the world's largest protected tropical reserve, covering an area approximately the size of France. Known as the Couloir Vert (Green Corridor), this reserve aims to conserve vast tracts of the Congo Basin, including forests and peatlands, which serve as significant carbon sinks and habitats for diverse species. ([positive.news](https://www.positive.news/society/good-news-stories-from-week-04-of-2025/?utm_source=openai))\n",
      "\n",
      "**3. Thailand Legalizes Same-Sex Marriage**\n",
      "\n",
      "Thailand has become the first Southeast Asian country to legalize same-sex marriage. The Marriage Equality Act, effective April 17, 2025, grants same-sex couples the same financial, adoption, and inheritance rights as heterosexual couples. This landmark legislation reflects Thailand's commitment to equality and human rights. ([positive.news](https://www.positive.news/society/good-news-stories-from-week-04-of-2025/?utm_source=openai))\n",
      "\n",
      "**4. Significant Reduction in EU Fossil Fuel Dependency**\n",
      "\n",
      "For the first time, solar energy generated more electricity than coal in the European Union in 2024. Solar accounted for 11% of the EU's electricity, surpassing coal at 10%. This milestone indicates a substantial shift towards renewable energy sources and a decline in fossil fuel reliance within the EU. ([positive.news](https://www.positive.news/society/good-news-stories-from-week-04-of-2025/?utm_source=openai))\n",
      "\n",
      "**5. Pioneering Heart Surgery Technique**\n",
      "\n",
      "Surgeons in England have successfully performed a groundbreaking procedure to remove a brain tumor previously considered inoperable. The minimally invasive technique involved accessing the tumor through a small incision on the patient's eyelid, leading to a swift recovery with minimal scarring. This advancement offers hope for patients with challenging brain tumors. ([positive.news](https://www.positive.news/society/good-news-stories-from-week-04-of-2025/?utm_source=openai))\n",
      "\n",
      "These stories highlight significant progress in environmental conservation, social equality, energy sustainability, and medical innovation. \n"
     ]
    }
   ],
   "source": [
    "# Example usage of websearch_response\n",
    "input_text = \"What was a positive news story from today?\"\n",
    "response = websearch_response(input_text)\n",
    "print(response)"
   ]
  }
 ],
 "metadata": {
  "kernelspec": {
   "display_name": ".venv",
   "language": "python",
   "name": "python3"
  },
  "language_info": {
   "codemirror_mode": {
    "name": "ipython",
    "version": 3
   },
   "file_extension": ".py",
   "mimetype": "text/x-python",
   "name": "python",
   "nbconvert_exporter": "python",
   "pygments_lexer": "ipython3",
   "version": "3.11.7"
  }
 },
 "nbformat": 4,
 "nbformat_minor": 5
}
